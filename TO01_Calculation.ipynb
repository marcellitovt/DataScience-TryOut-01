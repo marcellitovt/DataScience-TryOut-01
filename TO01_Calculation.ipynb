{
 "cells": [
  {
   "cell_type": "markdown",
   "metadata": {},
   "source": [
    "# Score analysis TryOut-01\n",
    "## SMK N 2 Depok\n",
    "\n",
    "\n",
    "Step :\n",
    "- Add Necessary packages\n",
    "- Import dataframe from csv"
   ]
  },
  {
   "cell_type": "code",
   "execution_count": 1,
   "metadata": {},
   "outputs": [
    {
     "data": {
      "text/plain": [
       "NO                int64\n",
       "USERNAME         object\n",
       "NAMA SISWA       object\n",
       "NAMA SEKOLAH     object\n",
       "BINDO           float64\n",
       "MTK             float64\n",
       "BING            float64\n",
       "TEORI           float64\n",
       "JUMLAH          float64\n",
       "PROV              int64\n",
       "KAB               int64\n",
       "dtype: object"
      ]
     },
     "execution_count": 1,
     "metadata": {},
     "output_type": "execute_result"
    }
   ],
   "source": [
    "import pandas as pd\n",
    "import numpy as np\n",
    "import matplotlib\n",
    "import matplotlib.pyplot as plt\n",
    "\n",
    "dataframe = pd.read_csv('dataset/TO01_clean.csv')\n",
    "dataframe.dtypes"
   ]
  },
  {
   "cell_type": "markdown",
   "metadata": {},
   "source": [
    "- filter the 'SMK NEGERI 2 DEPOK'"
   ]
  },
  {
   "cell_type": "code",
   "execution_count": 2,
   "metadata": {},
   "outputs": [
    {
     "data": {
      "text/html": [
       "<div>\n",
       "<style scoped>\n",
       "    .dataframe tbody tr th:only-of-type {\n",
       "        vertical-align: middle;\n",
       "    }\n",
       "\n",
       "    .dataframe tbody tr th {\n",
       "        vertical-align: top;\n",
       "    }\n",
       "\n",
       "    .dataframe thead th {\n",
       "        text-align: right;\n",
       "    }\n",
       "</style>\n",
       "<table border=\"1\" class=\"dataframe\">\n",
       "  <thead>\n",
       "    <tr style=\"text-align: right;\">\n",
       "      <th></th>\n",
       "      <th>index</th>\n",
       "      <th>NO</th>\n",
       "      <th>USERNAME</th>\n",
       "      <th>NAMA SISWA</th>\n",
       "      <th>NAMA SEKOLAH</th>\n",
       "      <th>BINDO</th>\n",
       "      <th>MTK</th>\n",
       "      <th>BING</th>\n",
       "      <th>TEORI</th>\n",
       "      <th>JUMLAH</th>\n",
       "      <th>PROV</th>\n",
       "      <th>KAB</th>\n",
       "    </tr>\n",
       "  </thead>\n",
       "  <tbody>\n",
       "    <tr>\n",
       "      <td>0</td>\n",
       "      <td>21108</td>\n",
       "      <td>21480</td>\n",
       "      <td>k04040900001</td>\n",
       "      <td>ABDUL AZIZ</td>\n",
       "      <td>SMK NEGERI 2 DEPOK</td>\n",
       "      <td>64.0</td>\n",
       "      <td>52.5</td>\n",
       "      <td>80.0</td>\n",
       "      <td>NaN</td>\n",
       "      <td>196.5</td>\n",
       "      <td>2239</td>\n",
       "      <td>698</td>\n",
       "    </tr>\n",
       "    <tr>\n",
       "      <td>1</td>\n",
       "      <td>21109</td>\n",
       "      <td>21481</td>\n",
       "      <td>k04040900002</td>\n",
       "      <td>AFIF RUNDY MUTTAQIN</td>\n",
       "      <td>SMK NEGERI 2 DEPOK</td>\n",
       "      <td>66.0</td>\n",
       "      <td>27.5</td>\n",
       "      <td>76.0</td>\n",
       "      <td>NaN</td>\n",
       "      <td>169.5</td>\n",
       "      <td>6588</td>\n",
       "      <td>1669</td>\n",
       "    </tr>\n",
       "    <tr>\n",
       "      <td>2</td>\n",
       "      <td>21110</td>\n",
       "      <td>21482</td>\n",
       "      <td>k04040900003</td>\n",
       "      <td>AHMAD MAULANA RIZKY MUSTOFA</td>\n",
       "      <td>SMK NEGERI 2 DEPOK</td>\n",
       "      <td>62.0</td>\n",
       "      <td>32.5</td>\n",
       "      <td>78.0</td>\n",
       "      <td>NaN</td>\n",
       "      <td>172.5</td>\n",
       "      <td>5978</td>\n",
       "      <td>1525</td>\n",
       "    </tr>\n",
       "    <tr>\n",
       "      <td>3</td>\n",
       "      <td>21111</td>\n",
       "      <td>21483</td>\n",
       "      <td>k04040900004</td>\n",
       "      <td>ALFAREL NOOR MIARARIZKI SUTARMAN</td>\n",
       "      <td>SMK NEGERI 2 DEPOK</td>\n",
       "      <td>74.0</td>\n",
       "      <td>47.5</td>\n",
       "      <td>76.0</td>\n",
       "      <td>NaN</td>\n",
       "      <td>197.5</td>\n",
       "      <td>2153</td>\n",
       "      <td>680</td>\n",
       "    </tr>\n",
       "    <tr>\n",
       "      <td>4</td>\n",
       "      <td>21112</td>\n",
       "      <td>21484</td>\n",
       "      <td>k04040900005</td>\n",
       "      <td>ALFINKA ICHSANDYA</td>\n",
       "      <td>SMK NEGERI 2 DEPOK</td>\n",
       "      <td>80.0</td>\n",
       "      <td>55.0</td>\n",
       "      <td>74.0</td>\n",
       "      <td>NaN</td>\n",
       "      <td>209.0</td>\n",
       "      <td>1160</td>\n",
       "      <td>392</td>\n",
       "    </tr>\n",
       "  </tbody>\n",
       "</table>\n",
       "</div>"
      ],
      "text/plain": [
       "   index     NO      USERNAME                        NAMA SISWA  \\\n",
       "0  21108  21480  k04040900001                        ABDUL AZIZ   \n",
       "1  21109  21481  k04040900002               AFIF RUNDY MUTTAQIN   \n",
       "2  21110  21482  k04040900003       AHMAD MAULANA RIZKY MUSTOFA   \n",
       "3  21111  21483  k04040900004  ALFAREL NOOR MIARARIZKI SUTARMAN   \n",
       "4  21112  21484  k04040900005                 ALFINKA ICHSANDYA   \n",
       "\n",
       "         NAMA SEKOLAH  BINDO   MTK  BING  TEORI  JUMLAH  PROV   KAB  \n",
       "0  SMK NEGERI 2 DEPOK   64.0  52.5  80.0    NaN   196.5  2239   698  \n",
       "1  SMK NEGERI 2 DEPOK   66.0  27.5  76.0    NaN   169.5  6588  1669  \n",
       "2  SMK NEGERI 2 DEPOK   62.0  32.5  78.0    NaN   172.5  5978  1525  \n",
       "3  SMK NEGERI 2 DEPOK   74.0  47.5  76.0    NaN   197.5  2153   680  \n",
       "4  SMK NEGERI 2 DEPOK   80.0  55.0  74.0    NaN   209.0  1160   392  "
      ]
     },
     "execution_count": 2,
     "metadata": {},
     "output_type": "execute_result"
    }
   ],
   "source": [
    "df_stembayo = dataframe.loc[dataframe['NAMA SEKOLAH'] == 'SMK NEGERI 2 DEPOK']\n",
    "df_stembayo.reset_index().head()"
   ]
  },
  {
   "cell_type": "markdown",
   "metadata": {},
   "source": [
    "### Score Mean \n",
    "\n",
    "\n",
    "Step:\n",
    "- Filtering the score value"
   ]
  },
  {
   "cell_type": "code",
   "execution_count": 3,
   "metadata": {},
   "outputs": [
    {
     "data": {
      "text/plain": [
       "NAMA SEKOLAH      0\n",
       "BINDO             1\n",
       "MTK               7\n",
       "BING              6\n",
       "TEORI           497\n",
       "dtype: int64"
      ]
     },
     "execution_count": 3,
     "metadata": {},
     "output_type": "execute_result"
    }
   ],
   "source": [
    "Nilai = df_stembayo[['NAMA SEKOLAH', 'BINDO','MTK','BING','TEORI']]\n",
    "Nilai.isnull().sum(axis = 0)"
   ]
  },
  {
   "cell_type": "markdown",
   "metadata": {},
   "source": [
    "- Drop Nan value from score column"
   ]
  },
  {
   "cell_type": "code",
   "execution_count": 4,
   "metadata": {},
   "outputs": [
    {
     "data": {
      "text/plain": [
       "NAMA SEKOLAH      0\n",
       "BINDO             0\n",
       "MTK               0\n",
       "BING              0\n",
       "TEORI           491\n",
       "dtype: int64"
      ]
     },
     "execution_count": 4,
     "metadata": {},
     "output_type": "execute_result"
    }
   ],
   "source": [
    "Nilai = Nilai.dropna(subset=['BINDO','MTK','BING'])\n",
    "Nilai.isnull().sum(axis = 0)\n",
    "#Nilai.reset_index().head()"
   ]
  },
  {
   "cell_type": "markdown",
   "metadata": {},
   "source": [
    "- Showing mean"
   ]
  },
  {
   "cell_type": "code",
   "execution_count": 5,
   "metadata": {},
   "outputs": [
    {
     "data": {
      "text/html": [
       "<div>\n",
       "<style scoped>\n",
       "    .dataframe tbody tr th:only-of-type {\n",
       "        vertical-align: middle;\n",
       "    }\n",
       "\n",
       "    .dataframe tbody tr th {\n",
       "        vertical-align: top;\n",
       "    }\n",
       "\n",
       "    .dataframe thead th {\n",
       "        text-align: right;\n",
       "    }\n",
       "</style>\n",
       "<table border=\"1\" class=\"dataframe\">\n",
       "  <thead>\n",
       "    <tr style=\"text-align: right;\">\n",
       "      <th></th>\n",
       "      <th>BINDO</th>\n",
       "      <th>MTK</th>\n",
       "      <th>BING</th>\n",
       "      <th>TEORI</th>\n",
       "    </tr>\n",
       "    <tr>\n",
       "      <th>NAMA SEKOLAH</th>\n",
       "      <th></th>\n",
       "      <th></th>\n",
       "      <th></th>\n",
       "      <th></th>\n",
       "    </tr>\n",
       "  </thead>\n",
       "  <tbody>\n",
       "    <tr>\n",
       "      <td>SMK NEGERI 2 DEPOK</td>\n",
       "      <td>75.208981</td>\n",
       "      <td>50.954231</td>\n",
       "      <td>78.549223</td>\n",
       "      <td>56.164773</td>\n",
       "    </tr>\n",
       "  </tbody>\n",
       "</table>\n",
       "</div>"
      ],
      "text/plain": [
       "                        BINDO        MTK       BING      TEORI\n",
       "NAMA SEKOLAH                                                  \n",
       "SMK NEGERI 2 DEPOK  75.208981  50.954231  78.549223  56.164773"
      ]
     },
     "execution_count": 5,
     "metadata": {},
     "output_type": "execute_result"
    }
   ],
   "source": [
    "mean = Nilai.groupby('NAMA SEKOLAH').mean()\n",
    "mean"
   ]
  },
  {
   "cell_type": "markdown",
   "metadata": {},
   "source": [
    "- Visualization"
   ]
  },
  {
   "cell_type": "code",
   "execution_count": 6,
   "metadata": {},
   "outputs": [
    {
     "data": {
      "text/plain": [
       "<Figure size 720x360 with 0 Axes>"
      ]
     },
     "metadata": {},
     "output_type": "display_data"
    },
    {
     "data": {
      "image/png": "[encoded data removed]",
      "text/plain": [
       "<Figure size 432x288 with 1 Axes>"
      ]
     },
     "metadata": {},
     "output_type": "display_data"
    }
   ],
   "source": [
    "plt.figure(figsize=(10,5))\n",
    "plt.style.use('dark_background')\n",
    "\n",
    "vis = pd.DataFrame({'subject':['BINDO', 'MTK', 'BING','TEORI'], 'score':Nilai.mean()})\n",
    "ax = vis.plot.bar(x='subject', y='score', rot=0, color=['indigo'])\n",
    "ax.set_ylim(0,100)\n",
    "plt.xlabel('Subject')\n",
    "plt.ylabel('Score')\n",
    "plt.title('Score mean TO01', fontsize=22)\n",
    "\n",
    "# create a list to collect the plt.patches data\n",
    "totals = []\n",
    "\n",
    "# find the values and append to list\n",
    "for i in ax.patches:\n",
    "    totals.append(i.get_height())\n",
    "# set individual bar lables using above list\n",
    "for i in ax.patches:\n",
    "    # get_x pulls left or right; get_height pushes up or down\n",
    "    ax.text(i.get_x()+.05, i.get_height()-8,\\\n",
    "            str(round(i.get_height(),1)) ,fontsize=15,\n",
    "                color='white')\n",
    "plt.show()"
   ]
  },
  {
   "cell_type": "code",
   "execution_count": 7,
   "metadata": {},
   "outputs": [],
   "source": [
    "#export df_stembayo\n",
    "#export = df_stembayo\n",
    "#export.to_csv(r'df_stembayo.csv',index=False)"
   ]
  }
 ],
 "metadata": {
  "kernelspec": {
   "display_name": "Python 3",
   "language": "python",
   "name": "python3"
  },
  "language_info": {
   "codemirror_mode": {
    "name": "ipython",
    "version": 3
   },
   "file_extension": ".py",
   "mimetype": "text/x-python",
   "name": "python",
   "nbconvert_exporter": "python",
   "pygments_lexer": "ipython3",
   "version": "3.7.4"
  }
 },
 "nbformat": 4,
 "nbformat_minor": 2
}
